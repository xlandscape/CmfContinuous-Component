{
 "cells": [
  {
   "cell_type": "code",
   "execution_count": null,
   "metadata": {},
   "outputs": [],
   "source": [
    "import hvplot\n",
    "import hvplot.pandas"
   ]
  },
  {
   "cell_type": "markdown",
   "metadata": {},
   "source": [
    "The hvPlot API is closely modeled on the pandas plot API but also diverges in certain cases, either to improve consistency or to provide additional functionality. This section will outline the valid options to control the axes of a plot, to control datashading and to modify the style of a plot. To look these options up interactively you may either use the tab-completion machinery in IPython or the Jupyter notebook, e.g.:\n",
    "\n",
    "```python\n",
    "df.hvplot.line(<TAB>\n",
    "```\n",
    "\n",
    "OR use the help method:\n",
    "\n",
    "```\n",
    "hvplot.help('line')\n",
    "```"
   ]
  },
  {
   "cell_type": "markdown",
   "metadata": {},
   "source": [
    "## Generic options\n",
    "\n",
    "The generic set of options which may apply to all plot types include:\n",
    "\n",
    "    colorbar (default=False): boolean\n",
    "        Enables colorbar\n",
    "    flip_xaxis/flip_yaxis: boolean\n",
    "        Whether to flip the axis left to right or up and down respectively\n",
    "    grid (default=False): boolean\n",
    "        Whether to show a grid\n",
    "    hover (default=True): boolean\n",
    "        Whether to show hover tooltips\n",
    "    hover_cols (default=[]): list\n",
    "        Additional columns to add to the hover tool\n",
    "    invert (default=False): boolean\n",
    "        Swaps x- and y-axis\n",
    "    legend (default=True): boolean or str\n",
    "        Whether to show a legend, or a legend position\n",
    "        ('top', 'bottom', 'left', 'right')\n",
    "    logx/logy (default=False): boolean\n",
    "        Enables logarithmic x- and y-axis respectively\n",
    "    loglog (default=False): boolean\n",
    "        Enables logarithmic x- and y-axis\n",
    "    padding: number or tuple\n",
    "        Fraction by which to increase auto-ranged extents to make\n",
    "        datapoints more visible around borders. Supports tuples to\n",
    "        specify different amount of padding for x- and y-axis and\n",
    "        tuples of tuples to specify different amounts of padding for\n",
    "        upper and lower bounds.\n",
    "    rot: number\n",
    "        Rotates the axis ticks along the x-axis by the specified\n",
    "        number of degrees.\n",
    "    shared_axes (default=False): boolean\n",
    "        Whether to link axes between plots\n",
    "    title (default=''): str\n",
    "        Title for the plot\n",
    "    tools (default=[]): list\n",
    "        List of tool instances or strings (e.g. ['tap', box_select'])\n",
    "    xaxis/yaxis: str or None\n",
    "        Whether to show the x/y-axis and whether to place it at the\n",
    "        'top'/'bottom' and 'left'/'right' respectively.\n",
    "    xformatter/yformatter (default=None): str or TickFormatter\n",
    "        Formatter for the x-axis and y-axis (accepts printf formatter,\n",
    "        e.g. '%.3f', and bokeh TickFormatter)\n",
    "    xlabel/ylabel (default=None): str\n",
    "        Axis labels for the x-axis and y-axis\n",
    "    xlim/ylim (default=None): tuple\n",
    "        Plot limits of the x- and y-axis\n",
    "    xticks/yticks (default=None): int or list\n",
    "        Ticks along x- and y-axis specified as an integer, list of\n",
    "        ticks positions, or list of tuples of the tick positions and labels\n",
    "    width (default=800)/height (default=300): int\n",
    "        The width and height of the plot in pixels\n"
   ]
  },
  {
   "cell_type": "markdown",
   "metadata": {},
   "source": [
    "## Datashading options\n",
    "\n",
    "In addition to regular plot options hvplot also exposes options for dealing with large data:\n",
    "\n",
    "    aggregator (default=None):\n",
    "        Aggregator to use when applying rasterize or datashade operation\n",
    "        (valid options include 'mean', 'count', 'min', 'max' and more, and\n",
    "        datashader reduction objects)\n",
    "    dynamic (default=True):\n",
    "        Whether to return a dynamic plot which sends updates on widget and\n",
    "        zoom/pan events or whether all the data should be embedded\n",
    "        (warning: for large groupby operations embedded data can become\n",
    "        very large if dynamic=False)\n",
    "    datashade (default=False):\n",
    "        Whether to apply rasterization and shading using datashader\n",
    "        library returning an RGB object\n",
    "    dynspread (default=False):\n",
    "        Allows plots generated with datashade=True to increase the point\n",
    "        size to make sparse regions more visible\n",
    "    rasterize (default=False):\n",
    "        Whether to apply rasterization using the datashader library\n",
    "        returning an aggregated Image\n",
    "    xsampling/ysampling (default=None):\n",
    "        Declares a minimum sampling density beyond.\n"
   ]
  },
  {
   "cell_type": "markdown",
   "metadata": {},
   "source": [
    "## Kind options\n",
    "\n",
    "Each type of plot may have a number of options to visual attributes specific to that plot type. In general these are provided in the docstring of the plot type, which can be viewed using ``help`` method:"
   ]
  },
  {
   "cell_type": "code",
   "execution_count": null,
   "metadata": {},
   "outputs": [],
   "source": [
    "hvplot.help('scatter', generic=False, style=False)"
   ]
  },
  {
   "cell_type": "markdown",
   "metadata": {},
   "source": [
    "## Styling options\n",
    "\n",
    "Beyond the options specific to each plot type (or ``kind``) it is also possible to customize each component in detail, exposing all the options bokeh exposes. These usually include options to color the line and fill color, alpha and style. To see the full listing we can once again use the ``help`` method:"
   ]
  },
  {
   "cell_type": "code",
   "execution_count": null,
   "metadata": {},
   "outputs": [],
   "source": [
    "hvplot.help('line', docstring=False, generic=False)"
   ]
  },
  {
   "cell_type": "markdown",
   "metadata": {},
   "source": [
    "In general, the objects returned by hvPlot are regular HoloViews objects, which can be overlaid, laid out, composed and customized like all other HoloViews objects.  The [HoloViews](http://holoviews.org) website explains all the functionality available, but what's on this hvPlot website should be enough to get you up and running for typical usage.  "
   ]
  }
 ],
 "metadata": {
  "kernelspec": {
   "display_name": "Python 3",
   "language": "python",
   "name": "python3"
  },
  "language_info": {
   "codemirror_mode": {
    "name": "ipython",
    "version": 3
   },
   "file_extension": ".py",
   "mimetype": "text/x-python",
   "name": "python",
   "nbconvert_exporter": "python",
   "pygments_lexer": "ipython3",
   "version": "3.6.6"
  }
 },
 "nbformat": 4,
 "nbformat_minor": 2
}
