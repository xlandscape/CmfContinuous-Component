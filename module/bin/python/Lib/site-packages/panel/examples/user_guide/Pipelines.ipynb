{
 "cells": [
  {
   "cell_type": "code",
   "execution_count": null,
   "metadata": {},
   "outputs": [],
   "source": [
    "import param\n",
    "import panel as pn\n",
    "import holoviews as hv\n",
    "\n",
    "pn.extension()"
   ]
  },
  {
   "cell_type": "markdown",
   "metadata": {},
   "source": [
    "**Note: This feature requires param >= 1.8.2 (currently in development).**\n",
    "\n",
    "The [Param user guide](Param.ipynb) described how to set up classes which declare parameters and link them to some computation or visualization. In this section we will discover how to connect multiple such panels into a ``Pipeline`` to express complex workflows where the output of one stage feeds into the next stage. To start using a ``Pipeline`` let us declare an empty one by instantiating the class:"
   ]
  },
  {
   "cell_type": "code",
   "execution_count": null,
   "metadata": {},
   "outputs": [],
   "source": [
    "pipeline = pn.pipeline.Pipeline()"
   ]
  },
  {
   "cell_type": "markdown",
   "metadata": {},
   "source": [
    "Having set up a Pipeline it is now possible to start populating it. While we have already seen how to declare a ``Parameterized`` class with parameters which are linked to some visualization or computation on a method using the ``param.depends`` decorator, ``Pipelines`` make use of another decorator and a convention for displaying the objects.\n",
    "\n",
    "The ``param.output`` decorator provides a way to annotate the methods on a class by declaring its outputs. A ``Pipeline`` uses this information to determine what outputs are available to be fed into the next stage of the workflow. In the example below the ``Stage1`` class has to parameters of its own (``a`` and ``b``) and one output, which is named ``c``. The signature of the decorator allows a number of different ways of declaring the outputs:\n",
    "\n",
    "* ``param.output()``: Declaring an output without arguments will declare that the method returns an output which will inherit the name of the method and does not make any specific type declarations.\n",
    "* ``param.output(param.Number)``: Declaring an output with a specific ``Parameter`` or Python type also declares an output with the name of the method but declares that the output will be of a specific type.\n",
    "* ``param.output(c=param.Number)``: Declaring an output using a keyword argument allows overriding the method name as the name of the output and declares the type.\n",
    "\n",
    "It is also possible to declare multiple parameters, either as keywords (Python >= 3.6 required) or tuples:\n",
    "\n",
    "* ``param.output(c=param.Number, d=param.String)`` or ``param.output(('c', param.Number), ('d', param.String))``\n",
    "\n",
    "In the example below the output is simply the result of multiplying the two inputs (``a`` and ``b``) which will produce output ``c``. Additionally we declare a ``view`` method which returns a ``LaTeX`` pane which will render the equation to ``LaTeX``. Finally a ``panel`` method declares returns a ``panel`` object rendering both the parameters and the view; this is the second convention that a ``Pipeline`` expects.\n",
    "\n",
    "Let's start by displaying this stage on its own:"
   ]
  },
  {
   "cell_type": "code",
   "execution_count": null,
   "metadata": {},
   "outputs": [],
   "source": [
    "class Stage1(param.Parameterized):\n",
    "    \n",
    "    a = param.Number(default=5, bounds=(0, 10))\n",
    "\n",
    "    b = param.Number(default=5, bounds=(0, 10))\n",
    "    \n",
    "    @param.output(('c', param.Number), ('d', param.Number))\n",
    "    def output(self):\n",
    "        return self.a * self.b, self.a ** self.b\n",
    "    \n",
    "    @param.depends('a', 'b')\n",
    "    def view(self):\n",
    "        c, d = self.output()\n",
    "        return pn.pane.LaTeX('${a} * {b} = {c}$\\n${a}^{{{b}}} = {d}$'.format(\n",
    "            a=self.a, b=self.b, c=c, d=d))\n",
    "\n",
    "    def panel(self):\n",
    "        return pn.Row(self.param, self.view)\n",
    "    \n",
    "stage1 = Stage1()\n",
    "stage1.panel()"
   ]
  },
  {
   "cell_type": "markdown",
   "metadata": {},
   "source": [
    "To summarize we have followed several conventions when setting up this stage of our ``Pipeline``:\n",
    "\n",
    "1. Declare a Parameterized class with some input parameters\n",
    "2. Declare one or more output methods and name them appropriately\n",
    "3. Declare a ``panel`` method which returns a view of the object that the ``Pipeline`` can render\n",
    "\n",
    "Now that the object has been instantiated we can also query it for its outputs:"
   ]
  },
  {
   "cell_type": "code",
   "execution_count": null,
   "metadata": {},
   "outputs": [],
   "source": [
    "stage1.param.outputs()"
   ]
  },
  {
   "cell_type": "markdown",
   "metadata": {},
   "source": [
    "We can see that ``Stage1`` declares an output of name ``c`` of ``Number`` type which can be accessed by calling the ``output`` method on the object. Now let us add this stage to our ``Pipeline`` using the ``add_stage`` method:"
   ]
  },
  {
   "cell_type": "code",
   "execution_count": null,
   "metadata": {},
   "outputs": [],
   "source": [
    "pipeline.add_stage('Stage 1', stage1)"
   ]
  },
  {
   "cell_type": "markdown",
   "metadata": {},
   "source": [
    "A ``Pipeline`` with only a single stage is not much of a ``Pipeline`` of course, so it's time to set up a second stage, which consumes the outputs of the first. Recall that ``Stage1`` declares one output named ``c``, this means that if the output from ``Stage1`` should flow to ``Stage2``, the latter should declare a ``Parameter`` named ``c`` which will consume the output of the first stage. It does not have to consume all parameters so we can ignore output ``d``.\n",
    "\n",
    "Below we therefore define parameters ``c`` and ``exp`` and since ``c`` is the output of the first stage the ``c`` parameter will be declared with a negative precedence stopping ``panel`` from generating a widget for it. Otherwise this class is very similar to the first one, it declares both a ``view`` method which depends on the parameters of the class and a ``panel`` method which returns a view of the object."
   ]
  },
  {
   "cell_type": "code",
   "execution_count": null,
   "metadata": {},
   "outputs": [],
   "source": [
    "class Stage2(param.Parameterized):\n",
    "    \n",
    "    c = param.Number(default=5, precedence=-1, bounds=(0, None))\n",
    "\n",
    "    exp = param.Number(default=0.1, bounds=(0, 3))\n",
    "    \n",
    "    @param.depends('c', 'exp')\n",
    "    def view(self):\n",
    "        return pn.pane.LaTeX('${%s}^{%s}={%.3f}$' % (self.c, self.exp, self.c**self.exp))\n",
    "\n",
    "    def panel(self):\n",
    "        return pn.Row(self.param, self.view)\n",
    "    \n",
    "stage2 = Stage2(c=stage1.output()[0])\n",
    "stage2.panel()"
   ]
  },
  {
   "cell_type": "markdown",
   "metadata": {},
   "source": [
    "Now that we have declared the second stage of the pipeline let us add it to the ``Pipeline`` object:"
   ]
  },
  {
   "cell_type": "code",
   "execution_count": null,
   "metadata": {},
   "outputs": [],
   "source": [
    "pipeline.add_stage('Stage 2', stage2)"
   ]
  },
  {
   "cell_type": "markdown",
   "metadata": {},
   "source": [
    "And that's it, we have no declared a two stage pipeline, where the output ``c`` flows from the first stage into the second stage. To display it we can now view the ``pipeline.layout``:"
   ]
  },
  {
   "cell_type": "code",
   "execution_count": null,
   "metadata": {},
   "outputs": [],
   "source": [
    "pipeline.layout"
   ]
  },
  {
   "cell_type": "markdown",
   "metadata": {},
   "source": [
    "As you can see the ``Pipeline`` renders a little diagram displaying the available stages in the workflow along with previous and next buttons to move between each stage. This allows setting up complex workflows with multiple stages, where each component is a self-contained unit, with minimal declarations about its outputs (using the ``param.output`` decorator) and how to render it (by declaring a ``panel`` method).\n",
    "\n",
    "Above we created the ``Pipeline`` as we went along which makes some sense in a notebook, when deploying the Pipeline as a server app or when there's no reason to instantiate each stage separately it is also possible to declare the stages as part of the constructor:"
   ]
  },
  {
   "cell_type": "code",
   "execution_count": null,
   "metadata": {},
   "outputs": [],
   "source": [
    "stages = [\n",
    "    ('Stage 1', Stage1),\n",
    "    ('Stage 2', Stage2)\n",
    "]\n",
    "\n",
    "pipeline = pn.pipeline.Pipeline(stages)\n",
    "pipeline.layout"
   ]
  },
  {
   "cell_type": "markdown",
   "metadata": {},
   "source": [
    "As you will note the Pipeline stages may be either ``Parameterized`` instances or classes, however when working with instances you must ensure that updating the parameters of the class is sufficient to update the current state of the class."
   ]
  }
 ],
 "metadata": {
  "kernelspec": {
   "display_name": "Python 3",
   "language": "python",
   "name": "python3"
  },
  "language_info": {
   "codemirror_mode": {
    "name": "ipython",
    "version": 3
   },
   "file_extension": ".py",
   "mimetype": "text/x-python",
   "name": "python",
   "nbconvert_exporter": "python",
   "pygments_lexer": "ipython3",
   "version": "3.6.6"
  }
 },
 "nbformat": 4,
 "nbformat_minor": 2
}
