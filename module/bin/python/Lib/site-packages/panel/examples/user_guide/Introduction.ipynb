{
 "cells": [
  {
   "cell_type": "markdown",
   "metadata": {},
   "source": [
    "Panel lets you add interactive controls for just about anything you can display in Python. Panel can help you build simple interactive apps, complex multi-page dashboards, or anything in between. As a simple example, let's say you have created a function to plot a sine wave using Matplotlib and the Pandas `.plot()` command:"
   ]
  },
  {
   "cell_type": "code",
   "execution_count": null,
   "metadata": {},
   "outputs": [],
   "source": [
    "import panel as pn, numpy as np, pandas as pd, matplotlib.pyplot as plt\n",
    "%matplotlib inline\n",
    "\n",
    "def mplplot(df, **kwargs):\n",
    "    fig = df.plot().get_figure()\n",
    "    plt.close(fig)\n",
    "    return fig\n",
    "\n",
    "def sine(frequency=1.0, amplitude=1.0, n=200, view_fn=mplplot):\n",
    "    xs = np.arange(n)/n*20.0\n",
    "    ys = amplitude*np.sin(frequency*xs)\n",
    "    df = pd.DataFrame(dict(y=ys), index=xs)\n",
    "    return view_fn(df, frequency=frequency, amplitude=amplitude, n=n)\n",
    "\n",
    "sine(1.5, 2.5)"
   ]
  },
  {
   "cell_type": "markdown",
   "metadata": {},
   "source": [
    "If we wanted to try out lots of combinations of these values to understand how frequency and amplitude affect this plot, we could reevaluate the above cell lots of times, but that would be a slow and painful process, and is only really appropriate for some users comfortable with editing Python code. \n",
    "\n",
    "## Interactive Panels\n",
    "\n",
    "Instead of editing code, it's much quicker and more straightforward to use sliders to adjust the values interactively.  You can easily make a Panel app to explore a function's parameters using `pn.interact`:"
   ]
  },
  {
   "cell_type": "code",
   "execution_count": null,
   "metadata": {},
   "outputs": [],
   "source": [
    "import panel as pn\n",
    "pn.extension()\n",
    "\n",
    "pn.interact(sine)"
   ]
  },
  {
   "cell_type": "markdown",
   "metadata": {},
   "source": [
    "As long as you have a live Python process running, dragging these widgets will trigger a call to the `sine` callback function, evaluating it for whatever combination of parameter values you select and displaying the results. A Panel like this makes it very easy to explore any function that produces a visual result of a [supported type](https://github.com/pyviz/panel/issues/2), such as Matplotlib (as above), Bokeh, Plotly, Altair, or various text and image types.\n",
    "\n",
    "## Components of Panels\n",
    "\n",
    "`interact` is convenient, but what if you want more control over how it looks or works?  First, let's see what `interact` actually creates, by grabbing that object and displaying its representation:"
   ]
  },
  {
   "cell_type": "code",
   "execution_count": null,
   "metadata": {},
   "outputs": [],
   "source": [
    "i = pn.interact(sine, n=(5,100))\n",
    "i.pprint()"
   ]
  },
  {
   "cell_type": "markdown",
   "metadata": {},
   "source": [
    "As you can see, the `interact` call created a `pn.Column` object consisting of a WidgetBox (with 3 widgets) and a `pn.Row` with one Matplotlib figure object.  Panel is compositional, so you can mix and match these components any way you like, adding other objects as needed:"
   ]
  },
  {
   "cell_type": "code",
   "execution_count": null,
   "metadata": {},
   "outputs": [],
   "source": [
    "pn.Row(i[1][0], pn.Column(\"<br>\\n# Sine waves\", i[0][0], i[0][1]))"
   ]
  },
  {
   "cell_type": "markdown",
   "metadata": {},
   "source": [
    "Note that the widgets stay linked to their plot even if they are in a different notebook cell:"
   ]
  },
  {
   "cell_type": "code",
   "execution_count": null,
   "metadata": {},
   "outputs": [],
   "source": [
    "i[0][2]"
   ]
  },
  {
   "cell_type": "markdown",
   "metadata": {},
   "source": [
    "Panel widgets are reactive, so they will update even if you set the values by hand:"
   ]
  },
  {
   "cell_type": "code",
   "execution_count": null,
   "metadata": {},
   "outputs": [],
   "source": [
    "i[0][0].value = 2.5"
   ]
  },
  {
   "cell_type": "markdown",
   "metadata": {},
   "source": [
    "## Composing new Panels\n",
    "\n",
    "You can use this compositional approach to build arbitrary combinations of widgets, plots, text, and other elements needed for an app or dashboard. E.g. we can build something just like the `pn.interact`-based example above, but now starting from scratch and linking the widget to an ``update`` function that replaces the output:"
   ]
  },
  {
   "cell_type": "code",
   "execution_count": null,
   "metadata": {},
   "outputs": [],
   "source": [
    "import panel.widgets as pnw\n",
    "\n",
    "frequency  = pnw.FloatSlider(name='frequency', value=1, start=1.0, end=5)\n",
    "amplitude  = pnw.FloatSlider(name='amplitude', value=1, start=0.1, end=10)\n",
    "\n",
    "widgets    = pn.Column(\"<br>\\n# Sine waves\", frequency, amplitude)\n",
    "sine_panel = pn.Row(sine(frequency.value, amplitude.value), widgets)\n",
    "\n",
    "def update(event):\n",
    "    sine_panel[0] = sine(frequency.value, amplitude.value)\n",
    "    \n",
    "frequency.param.watch(update, 'value')\n",
    "amplitude.param.watch(update, 'value')\n",
    "\n",
    "sine_panel"
   ]
  },
  {
   "cell_type": "markdown",
   "metadata": {},
   "source": [
    "## Deploying Panels\n",
    "\n",
    "The above panels all work in the notebook cell, but unlike other approaches such as ipywidgets, Panel apps work just the same in a standalone server. For instance, the app above can be launched as its own web server on your machine by uncommenting and running the following cell:"
   ]
  },
  {
   "cell_type": "code",
   "execution_count": null,
   "metadata": {},
   "outputs": [],
   "source": [
    "#sine_panel.show()"
   ]
  },
  {
   "cell_type": "markdown",
   "metadata": {},
   "source": [
    "Or, you can simply mark whatever you want to be in the separate web page with `.servable()`, and then run the shell command `panel serve --show Introduction.ipynb` to launch a server containing that object. (Here, we've also added a semicolon to avoid getting another copy of the sine_panel here in the notebook.)"
   ]
  },
  {
   "cell_type": "code",
   "execution_count": null,
   "metadata": {},
   "outputs": [],
   "source": [
    "sine_panel.servable();"
   ]
  },
  {
   "cell_type": "markdown",
   "metadata": {},
   "source": [
    "## Declarative Panels\n",
    "\n",
    "The above compositional approach is very flexible, but it ties your domain-specific code (the parts about sine waves) with your widget display code. That's fine for small, quick projects or projects dominated by visualization code, but what about large-scale, long-lived projects, where the code is used in many different contexts over time, such as in large batch runs, one-off command-line usage, notebooks, and deployed dashboards?  For larger projects like that, it's important to be able to separate the parts of the code that are about the underlying domain (i.e. application or research area) from those that are tied to specific display technologies (such as Jupyter notebooks or web servers). \n",
    "\n",
    "For such usages, Panel supports objects declared with the separate [Param](http://param.pyviz.org) library, which provides a GUI-independent way of capturing and declaring the parameters of your objects (and dependencies between your code and those parameters), in a way that's independent of any particular application or dashboard technology. For instance, the above code can be captured in an object that declares the ranges and values of all parameters, as well as how to generate the plot, independently of the Panel library or any other way of interacting with the object:"
   ]
  },
  {
   "cell_type": "code",
   "execution_count": null,
   "metadata": {},
   "outputs": [],
   "source": [
    "import param\n",
    "\n",
    "class Sine(param.Parameterized):\n",
    "    amplitude = param.Number(default=1, bounds=(0, None), softbounds=(0,5))\n",
    "    frequency = param.Number(default=2, bounds=(0, 10))\n",
    "    n = param.Integer(default=200, bounds=(1, 200))\n",
    "\n",
    "    def view(self):\n",
    "        return sine(self.frequency, self.amplitude, self.n)\n",
    "    \n",
    "sine_obj = Sine()"
   ]
  },
  {
   "cell_type": "markdown",
   "metadata": {},
   "source": [
    "The `Sine` class and the `sine_obj` instance have no dependency on Panel, jupyter, or any other GUI or web toolkit; they simply declare facts about a certain domain (such as that sine waves take frequency and amplitude parameters, and that amplitude is a number greater than or equal to zero).  This information is then enough for Panel to create an editable and viewable representation for this object without having to specify anything else:"
   ]
  },
  {
   "cell_type": "code",
   "execution_count": null,
   "metadata": {},
   "outputs": [],
   "source": [
    "pn.Row(sine_obj.param, sine_obj.view)"
   ]
  },
  {
   "cell_type": "markdown",
   "metadata": {},
   "source": [
    "In this way you can make even a large codebase be displayable and editable with Panel, without making it dependent on or tied to any particular gui library."
   ]
  },
  {
   "cell_type": "markdown",
   "metadata": {},
   "source": [
    "## Linking plots and actions between panes\n",
    "\n",
    "The above approaches each work with a very wide variety of displayable objects, including images, equations, tables, and plots. In each case, Panel provides interactive functionality using widgets, and updates the displayed objects accordingly, while making very few assumptions about what actually is being displayed. Panel also supports richer, more dynamic interactivity where the displayed object is itself interactive, such as the JavaScript-based plots from  Bokeh and Plotly.\n",
    "\n",
    "For instance, if we substitute the [Bokeh](http://bokeh.pydata.org) wrapper [hvPlot](http://hvplot.pyviz.org) for the Matplotlib wrapper provided with Pandas, we automatically get interactive plots that allow zooming, panning and hovering:"
   ]
  },
  {
   "cell_type": "code",
   "execution_count": null,
   "metadata": {},
   "outputs": [],
   "source": [
    "import hvplot.pandas\n",
    "\n",
    "def hvplot(df, **kwargs):\n",
    "    return df.hvplot()\n",
    "\n",
    "pn.interact(sine, view_fn=hvplot)"
   ]
  },
  {
   "cell_type": "markdown",
   "metadata": {},
   "source": [
    "These interactive actions can be combined with more complex interactions with a plot (e.g. tap, hover) to make it easy to explore data more deeply and uncover connections. For instance, we can use HoloViews to make a more full-featured version of the hvPlot example that dynamically updates to indicate the position on the unit circle when hovering over the sine curve:"
   ]
  },
  {
   "cell_type": "code",
   "execution_count": null,
   "metadata": {},
   "outputs": [],
   "source": [
    "import holoviews as hv\n",
    "\n",
    "tap = hv.streams.PointerX(x=0)\n",
    "\n",
    "def hvplot2(df, frequency, **kwargs):\n",
    "    plot = df.hvplot(width=500, padding=(0, 0.1))\n",
    "    tap.source = plot\n",
    "\n",
    "    def unit_circle(x):\n",
    "        cx       = np.cos(x*frequency)\n",
    "        sx       = np.sin(x*frequency)\n",
    "        circle   = hv.Path([ hv.Ellipse(0,0,2),  [(-1,0), (1,0)],  [(0,-1), (0,1)]]).opts(color='black')\n",
    "        triangle = hv.Path([ [(0,0), (cx,sx)],   [(0,0), (cx,0)],  [(cx,0), (cx,sx)]]).opts(color='red', line_width=2)\n",
    "        labels   = hv.Labels([(cx/2, 0, '%.2f' % cx), (cx, sx/2., '%.2f' % sx)])\n",
    "        labels   = labels.opts(padding=0.1, xaxis=None, yaxis=None, text_baseline='bottom')\n",
    "        return (circle * triangle * labels)\n",
    "\n",
    "    vline  = hv.DynamicMap(hv.VLine,    streams=[tap]).opts(color='black')\n",
    "    circle = hv.DynamicMap(unit_circle, streams=[tap])\n",
    "    \n",
    "    return (plot * vline + circle).opts(toolbar=\"right\")\n",
    "\n",
    "unit_curve = pn.interact(sine, view_fn=hvplot2, n=(1, 200), frequency=(0, 10.))\n",
    "\n",
    "pn.Column(pn.Row('# The Unit Circle', pn.Spacer(width=45), unit_curve[0][0], unit_curve[0][2]),\n",
    "          unit_curve[1])"
   ]
  },
  {
   "cell_type": "markdown",
   "metadata": {},
   "source": [
    "## Exploring further\n",
    "\n",
    "The other sections in this user guide expand on each of the topics above, explaining in detail how to do various tasks and use various types of functionality from Panel:\n",
    "\n",
    "- [Interact](Interact.ipynb): More detailed and advanced usage of `interact()`, including controlling ranges\n",
    "- [Panes](Panes.ipynb): Types of panes supported (Matplotlib, SVG, HTML, etc.) and how to use them in panels\n",
    "- [Widgets](Widgets.ipynb): Types of widgets supported and how to link them to actions\n",
    "- [Layouts](Layouts.ipynb): Composing panes and widgets into panels\n",
    "- [Parameters](Parameters.ipynb): Capturing parameters and their links to actions declaratively for complex apps\n",
    "- [Pipelines](Pipelines.ipynb): Making multi-stage processing pipelines in notebooks and as deployed apps\n",
    "- [Demos](Demos.ipynb): Example apps and dashboards for various topic areas"
   ]
  }
 ],
 "metadata": {
  "language_info": {
   "name": "python",
   "pygments_lexer": "ipython3"
  }
 },
 "nbformat": 4,
 "nbformat_minor": 2
}
