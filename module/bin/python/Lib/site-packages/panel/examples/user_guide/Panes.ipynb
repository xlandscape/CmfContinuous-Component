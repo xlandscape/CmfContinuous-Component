{
 "cells": [
  {
   "cell_type": "code",
   "execution_count": null,
   "metadata": {},
   "outputs": [],
   "source": [
    "import panel as pn\n",
    "import panel.vega\n",
    "import panel.plotly\n",
    "\n",
    "pn.extension()"
   ]
  },
  {
   "cell_type": "markdown",
   "metadata": {},
   "source": [
    "``Panel`` makes it possible to display and arrange a wide range of plots and other media on a page, including plots (matplotlib, bokeh, vega/altair, holoviews, and plotly), images (pngs, svgs, gifs, jpegs),  and text (Markdown, HTML etc.).\n",
    "\n",
    "The ``pn.panel`` helper function returns a viewable representation of any object, e.g. a simple string will be interpreted as ``Markdown`` by default:"
   ]
  },
  {
   "cell_type": "code",
   "execution_count": null,
   "metadata": {},
   "outputs": [],
   "source": [
    "layout = pn.panel('**Some text**')\n",
    "layout"
   ]
  },
  {
   "cell_type": "markdown",
   "metadata": {},
   "source": [
    "The ``pn.panel`` will always return a Panel layout containing one or more views representing the supplied object. However we can also access the items of the ``Panel``, e.g. to confirm the type of the ``Pane`` that was created:"
   ]
  },
  {
   "cell_type": "code",
   "execution_count": null,
   "metadata": {},
   "outputs": [],
   "source": [
    "print(layout[0])"
   ]
  },
  {
   "cell_type": "markdown",
   "metadata": {},
   "source": [
    "This also makes it easy to manually compose the visible representation of an object. However in some cases it is necessary to manually choose the appropriate representation of an object, which we can do by manually constructing the desired ``Pane``, e.g. we may want to render the string from above without rendering the Markdown syntax. We can do so by manually constructing a ``pn.pane.Str``:"
   ]
  },
  {
   "cell_type": "code",
   "execution_count": null,
   "metadata": {},
   "outputs": [],
   "source": [
    "pane = pn.pane.Str('*Some text*')\n",
    "pane"
   ]
  },
  {
   "cell_type": "markdown",
   "metadata": {},
   "source": [
    "This also makes it easier to get a handle on the ``Pane`` object to update it. Since ``Pane`` objects are reactive updating the ``Pane.object`` will cause all existing views of the ``Pane`` to update in response:"
   ]
  },
  {
   "cell_type": "code",
   "execution_count": null,
   "metadata": {},
   "outputs": [],
   "source": [
    "pane.object = 'Some updated text'"
   ]
  },
  {
   "cell_type": "markdown",
   "metadata": {},
   "source": [
    "One thing to note is that since a ``Pane`` may define multiple views, when working with an explicitly constructed ``Pane`` care should be taken to compose the components of the ``Pane.layout`` manually."
   ]
  },
  {
   "cell_type": "markdown",
   "metadata": {},
   "source": [
    "### Bokeh\n",
    "\n",
    "Since panel is built on top of bokeh it natively understand bokeh plots and models, which means we can easily mix and match bokeh and panel code:"
   ]
  },
  {
   "cell_type": "code",
   "execution_count": null,
   "metadata": {},
   "outputs": [],
   "source": [
    "from bokeh.plotting import figure\n",
    "\n",
    "fig = figure(width=300, height=300)\n",
    "r = fig.line([1, 2, 3], [1, 2, 3])\n",
    "\n",
    "bk_layout = pn.panel(fig)\n",
    "bk_layout"
   ]
  },
  {
   "cell_type": "markdown",
   "metadata": {},
   "source": [
    "To update the plot we can modify the bokeh model and ``trigger`` an update to the model parameter:"
   ]
  },
  {
   "cell_type": "code",
   "execution_count": null,
   "metadata": {},
   "outputs": [],
   "source": [
    "r.data_source.data['y'] = r.data_source.data['y'][::-1]\n",
    "bk_layout[0].param.trigger('object')"
   ]
  },
  {
   "cell_type": "markdown",
   "metadata": {},
   "source": [
    "This will efficiently sync just the changes we made to the model. Alternatively we can also replace the model entirely:"
   ]
  },
  {
   "cell_type": "code",
   "execution_count": null,
   "metadata": {},
   "outputs": [],
   "source": [
    "new_fig = figure(width=300, height=300)\n",
    "r = new_fig.scatter([1, 2, 3], [1, 2, 3])\n",
    "\n",
    "bk_layout[0].object = new_fig"
   ]
  },
  {
   "cell_type": "markdown",
   "metadata": {},
   "source": [
    "### HoloViews"
   ]
  },
  {
   "cell_type": "markdown",
   "metadata": {},
   "source": [
    "HoloViews often provides a more concise way of declaring plots and HoloViews objects are also supported natively by panel."
   ]
  },
  {
   "cell_type": "code",
   "execution_count": null,
   "metadata": {},
   "outputs": [],
   "source": [
    "import numpy as np\n",
    "import holoviews as hv\n",
    "\n",
    "box = hv.BoxWhisker((np.random.randint(0, 10, 100), np.random.randn(100)), 'Group').sort()\n",
    "\n",
    "hv_layout = pn.panel(box)\n",
    "hv_layout"
   ]
  },
  {
   "cell_type": "markdown",
   "metadata": {},
   "source": [
    "A HoloViews panel can be updated in the same way as a matplotlib one:"
   ]
  },
  {
   "cell_type": "code",
   "execution_count": null,
   "metadata": {},
   "outputs": [],
   "source": [
    "hv_layout[0].object = hv.Violin(box)"
   ]
  },
  {
   "cell_type": "markdown",
   "metadata": {},
   "source": [
    "Additionally, since HoloViews is designed to make it easy to explore parameter spaces, the HoloViews pane will automatically add widgets when given a HoloMap or DynamicMap type. We can either display the default widget layout, or manually lay out the items in the layout:"
   ]
  },
  {
   "cell_type": "code",
   "execution_count": null,
   "metadata": {},
   "outputs": [],
   "source": [
    "xs = np.linspace(0, np.pi*2)\n",
    "hmap = hv.HoloMap({ph: hv.Curve((xs, np.sin(xs+ph))) for ph in np.linspace(0, np.pi*2, 11)}, 'Phase')\n",
    "\n",
    "widget_layout = pn.panel(hmap)\n",
    "\n",
    "pn.Column(widget_layout[1], widget_layout[0])"
   ]
  },
  {
   "cell_type": "markdown",
   "metadata": {},
   "source": [
    "### Matplotlib"
   ]
  },
  {
   "cell_type": "code",
   "execution_count": null,
   "metadata": {},
   "outputs": [],
   "source": [
    "import matplotlib.pyplot as plt\n",
    "\n",
    "fig = plt.figure()\n",
    "ax = fig.add_subplot(111)\n",
    "artist = ax.plot([1, 2, 3])[0]\n",
    "\n",
    "mpl_layout = pn.panel(fig)\n",
    "mpl_layout"
   ]
  },
  {
   "cell_type": "code",
   "execution_count": null,
   "metadata": {},
   "outputs": [],
   "source": [
    "artist.set_ydata(artist.get_ydata()[::-1])\n",
    "mpl_layout[0].param.trigger('object')"
   ]
  },
  {
   "cell_type": "markdown",
   "metadata": {},
   "source": [
    "### Altair/Vega\n",
    "\n",
    "Panel also provides a ``vega`` and ``vega-lite`` renderer which makes it possible to render ``altair`` plots. In addition to basic rendering the vega renderer will provide binary serialization for any array data sent to the browser, providing huge speedups over the standard JSON serialization employed by vega. This makes it possible to plot and interactively update much larger datasets."
   ]
  },
  {
   "cell_type": "code",
   "execution_count": null,
   "metadata": {},
   "outputs": [],
   "source": [
    "import altair as alt\n",
    "\n",
    "from vega_datasets import data\n",
    "\n",
    "cars = data.cars()\n",
    "\n",
    "chart = alt.Chart(cars).mark_circle(size=60).encode(\n",
    "    x='Horsepower',\n",
    "    y='Miles_per_Gallon',\n",
    "    color='Origin',\n",
    "    tooltip=['Name', 'Origin', 'Horsepower', 'Miles_per_Gallon']\n",
    ").interactive()\n",
    "\n",
    "vega_layout = pn.panel(chart)\n",
    "vega_layout"
   ]
  },
  {
   "cell_type": "markdown",
   "metadata": {},
   "source": [
    "As for all other ``Pane`` objects, we can update the chart by setting the ``object``. In case of altair/vega ``Panel`` will even cache the data, avoiding sending the data needlessly:"
   ]
  },
  {
   "cell_type": "code",
   "execution_count": null,
   "metadata": {},
   "outputs": [],
   "source": [
    "vega_layout[0].object = chart.mark_circle(size=100)"
   ]
  },
  {
   "cell_type": "markdown",
   "metadata": {},
   "source": [
    "### Plotly Plots"
   ]
  },
  {
   "cell_type": "code",
   "execution_count": null,
   "metadata": {},
   "outputs": [],
   "source": [
    "import numpy as np\n",
    "import plotly.graph_objs as go\n",
    "\n",
    "xx=np.linspace(-3.5, 3.5, 100)\n",
    "yy=np.linspace(-3.5, 3.5, 100)\n",
    "x,y=np.meshgrid(xx, yy)\n",
    "z=np.exp(-(x-1)**2-y**2)-(x**3+y**4-x/5)*np.exp(-(x**2+y**2))\n",
    "\n",
    "surface = go.Surface(z=z)\n",
    "layout = go.Layout(\n",
    "    title='Plotly 3D Plot',\n",
    "    autosize=False,\n",
    "    width=500,\n",
    "    height=500,\n",
    "    margin=dict(t=50, b=50, r=50, l=50)\n",
    ")\n",
    "fig = go.Figure(data=[surface], layout=layout)\n",
    "\n",
    "plotly_layout = pn.panel(fig)\n",
    "plotly_layout"
   ]
  }
 ],
 "metadata": {
  "kernelspec": {
   "display_name": "Python 3",
   "language": "python",
   "name": "python3"
  },
  "language_info": {
   "codemirror_mode": {
    "name": "ipython",
    "version": 3
   },
   "file_extension": ".py",
   "mimetype": "text/x-python",
   "name": "python",
   "nbconvert_exporter": "python",
   "pygments_lexer": "ipython3",
   "version": "3.6.4"
  }
 },
 "nbformat": 4,
 "nbformat_minor": 2
}
