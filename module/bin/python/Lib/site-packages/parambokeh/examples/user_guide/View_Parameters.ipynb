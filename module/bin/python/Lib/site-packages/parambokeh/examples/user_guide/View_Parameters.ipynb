{
 "cells": [
  {
   "cell_type": "code",
   "execution_count": null,
   "metadata": {},
   "outputs": [],
   "source": [
    "import param\n",
    "import parambokeh\n",
    "from bokeh.io import output_notebook\n",
    "import numpy as np\n",
    "import pandas as pd\n",
    "\n",
    "output_notebook()"
   ]
  },
  {
   "cell_type": "markdown",
   "metadata": {},
   "source": [
    "The paramBokeh library provides an easy way to manipulate parameters on ``Parameterized`` using the widgets on bokeh server and within the notebook. In addition to controlling input parameters a common usecase for using widgets in the notebook is to dynamically control some visual display output. In addition to all the standard parameters supplied by the ``param`` library, ``paramBokeh`` also supplies so called ``View`` parameters, which render bokeh plot output in a widget area. The output parameters may be updated simply by setting the parameter on the class.\n",
    "\n",
    "In the first simple example we will declare a Parameterized class with a ``Number`` parameter called magnitude and an ``HTML`` parameter which will let us display some arbitrary HTML. In this case we will simply generate a pandas dataframe with random data within the update method and use the ``to_html`` method to convert it to an HTML table. If we define the ``update`` method as the callback of the widgets the table will now update whenever the slider is dragged. To ensure that the output is drawn on initialization we set ``on_init=True``."
   ]
  },
  {
   "cell_type": "code",
   "execution_count": null,
   "metadata": {},
   "outputs": [],
   "source": [
    "class HTMLExample(param.Parameterized):\n",
    "    \n",
    "    magnitude = param.Number(1, bounds=(0, 10))\n",
    "\n",
    "    output = parambokeh.view.HTML()\n",
    "    \n",
    "    def update(self, **kwargs):\n",
    "        self.output = pd.DataFrame(np.random.rand(10,2)*self.magnitude).to_html()\n",
    "\n",
    "example = HTMLExample(name='HTMLExample')\n",
    "layout = parambokeh.Widgets(example, on_init=True, callback=example.update)"
   ]
  },
  {
   "cell_type": "markdown",
   "metadata": {},
   "source": [
    "The ``HTML`` parameter accepts any arbitrary HTML string but for convenience paramBokeh also allows rendering bokeh and HoloViews plots using the ``Plot`` parameter. Note however that we can only replace a plot when deploying on bokeh server, within the notebook we may only update a plot:\n",
    "\n",
    "Additionally we can declare the ``view_position``, which specifies where the viewing widget will be placed in relation to the input widgets:"
   ]
  },
  {
   "cell_type": "code",
   "execution_count": null,
   "metadata": {},
   "outputs": [],
   "source": [
    "import holoviews as hv\n",
    "\n",
    "class CurveExample(hv.streams.Stream):\n",
    "\n",
    "    color = param.Color(default='#000000', precedence=0)\n",
    "\n",
    "    element = param.ObjectSelector(default=hv.Curve,\n",
    "                                   objects=[hv.Curve, hv.Scatter, hv.Area],\n",
    "                                  precedence=0)\n",
    "\n",
    "    amplitude = param.Number(default=2, bounds=(2, 5))\n",
    "    \n",
    "    frequency = param.Number(default=2, bounds=(1, 10))\n",
    "    \n",
    "    output = parambokeh.view.Plot()\n",
    "    \n",
    "    def view(self, *args, **kwargs):\n",
    "        return self.element(self.amplitude*np.sin(np.linspace(0, np.pi*self.frequency)),\n",
    "                        vdims=[hv.Dimension('y', range=(-5, 5))]).opts(style=dict(color=self.color))\n",
    "    \n",
    "    def event(self, **kwargs):\n",
    "        if not self.output or any(k in kwargs for k in ['color', 'element']):\n",
    "            self.output = hv.DynamicMap(self.view, streams=[self], cache_size=0)\n",
    "        else:\n",
    "            super(CurveExample, self).event(**kwargs)\n",
    "\n",
    "example = CurveExample(name='HoloViews Example')\n",
    "parambokeh.Widgets(example, callback=example.event, on_init=True, view_position='right')"
   ]
  }
 ],
 "metadata": {
  "language_info": {
   "name": "python",
   "pygments_lexer": "ipython3"
  }
 },
 "nbformat": 4,
 "nbformat_minor": 2
}
