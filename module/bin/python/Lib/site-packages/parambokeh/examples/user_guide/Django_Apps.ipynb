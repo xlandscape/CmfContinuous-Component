{
 "cells": [
  {
   "cell_type": "markdown",
   "metadata": {},
   "source": [
    "In the [Introduction](Introduction.ipynb), we showed how to use parambokeh in the Jupyter notebook. Then in [Bokeh App](Bokeh_App.ipynb), we showed how to use parambokeh in a bokeh server application. Here we show how parambokeh can be used in a Django application.\n",
    "\n",
    "Note that currently, the first (and only) example here does not cover integration between param and django models.\n",
    "\n",
    "To run the example app yourself, you will first need to install django 2 (e.g. `conda install \"django=2\"`)."
   ]
  },
  {
   "cell_type": "markdown",
   "metadata": {},
   "source": [
    "## sliders app"
   ]
  },
  {
   "cell_type": "markdown",
   "metadata": {},
   "source": [
    "Based on a standard django2 app template, the sliders app shows how to integrate parambokeh with a django view; there's no interaction between param and django models.\n",
    "\n",
    "The sliders app is in `examples/apps/django2/sliders`, which is based on a standard django2 app template. We will cover the following additions/modifications to the django2 app template:\n",
    "\n",
    "  * `sliders/sinewave.py`: a parameterized object (representing your pre-existing code)\n",
    "  \n",
    "  * `sliders/bk_sliders.py`: the parambokeh/bokeh app (based on https://github.com/bokeh/bokeh/blob/master/examples/app/sliders.py)\n",
    "\n",
    "  * `sliders/apps.py`: how a django app can import and use bokeh server\n",
    "\n",
    "  * `sliders/views.py` and `templates/base.html`: getting the bokeh app into a django view\n",
    "\n",
    "You should be able to run this app yourself by changing to the `examples/apps/django2` directory and then running: `python manage.py runserver`; visit http://localhost:8000/sliders in your browser to try the app."
   ]
  },
  {
   "cell_type": "markdown",
   "metadata": {},
   "source": [
    "![screenshot of sliders app](sliders.png)"
   ]
  },
  {
   "cell_type": "markdown",
   "metadata": {},
   "source": [
    "To start with, in `sliders/sinewave.py` we create a parameterized object to serve as a placeholder for your own, existing code:"
   ]
  },
  {
   "cell_type": "code",
   "execution_count": null,
   "metadata": {},
   "outputs": [],
   "source": [
    "import numpy as np\n",
    "import param\n",
    "\n",
    "class SineWave(param.ParameterizedFunction):\n",
    "    offset = param.Number(default=0.0, bounds=(-5.0,5.0))\n",
    "    amplitude = param.Number(default=1.0, bounds=(-5.0,5.0))\n",
    "    phase = param.Number(default=0.0,bounds=(0.0,2*np.pi))\n",
    "    frequency = param.Number(default=1.0, bounds=(0.1, 5.1))\n",
    "    N = param.Integer(default=200, bounds=(0,None))\n",
    "    \n",
    "    def __call__(self,**params):\n",
    "        p = param.ParamOverrides(self,params)\n",
    "        x = np.linspace(0, 4*np.pi, p.N)\n",
    "        y = p.amplitude*np.sin(p.frequency*x + p.phase) + p.offset\n",
    "        return x,y"
   ]
  },
  {
   "cell_type": "markdown",
   "metadata": {},
   "source": [
    "When called, `SineWave` will return a tuple of two arrays, representing a sine wave:"
   ]
  },
  {
   "cell_type": "code",
   "execution_count": null,
   "metadata": {},
   "outputs": [],
   "source": [
    "SineWave()[0][0:5]"
   ]
  },
  {
   "cell_type": "markdown",
   "metadata": {},
   "source": [
    "We then take an existing bokeh example app, https://github.com/bokeh/bokeh/blob/master/examples/app/sliders.py, and modify it to use our parameterized `SineWave` class plus parambokeh to generate widgets automatically (as in previous tutorials):"
   ]
  },
  {
   "cell_type": "markdown",
   "metadata": {},
   "source": [
    "```python\n",
    "from bokeh.layouts import row\n",
    "from bokeh.models import ColumnDataSource\n",
    "from bokeh.plotting import figure\n",
    "\n",
    "import parambokeh\n",
    "\n",
    "from .sinewave import SineWave\n",
    "\n",
    "def app(doc):\n",
    "    x,y = SineWave()\n",
    "    source = ColumnDataSource(data=dict(x=x, y=y))\n",
    "\n",
    "    import numpy as np\n",
    "    plot = figure(plot_height=400, plot_width=400,\n",
    "                  tools=\"crosshair,pan,reset,save,wheel_zoom\",\n",
    "                  x_range=[0, 4*np.pi], y_range=[-2.5, 2.5])\n",
    "    plot.line('x', 'y', source=source, line_width=3, line_alpha=0.6)\n",
    "\n",
    "    def update_sinewave(sw,**kw):\n",
    "        x,y = sw()\n",
    "        source.data = dict(x=x, y=y)\n",
    "    \n",
    "    parambokeh.Widgets(SineWave, mode='server', doc=doc, callback=update_sinewave)\n",
    "    doc.add_root(row(plot, width=800))\n",
    "```"
   ]
  },
  {
   "cell_type": "markdown",
   "metadata": {},
   "source": [
    "The first Django-specific aspect of our example is to show how a Django app can import and use bokeh server. This is based on https://github.com/bokeh/bokeh/blob/0.12.16/examples/howto/server_embed/flask_embed.py, which shows how to embed bokeh in a flask app."
   ]
  },
  {
   "cell_type": "markdown",
   "metadata": {},
   "source": [
    "```python\n",
    "from django.apps import AppConfig\n",
    "\n",
    "from bokeh.server.server import Server\n",
    "\n",
    "from tornado.ioloop import IOLoop\n",
    "\n",
    "from . import bk_sliders\n",
    "from . import bk_config\n",
    "\n",
    "def bk_worker():\n",
    "    # Note: num_procs must be 1; see e.g. flask_gunicorn_embed.py for num_procs>1\n",
    "    server = Server({'/bk_sliders_app': bk_sliders.app},\n",
    "                    io_loop=IOLoop(),\n",
    "                    address=bk_config.server['address'],\n",
    "                    port=bk_config.server['port'],\n",
    "                    allow_websocket_origin=[\"localhost:8000\"])\n",
    "    server.start()\n",
    "    server.io_loop.start()\n",
    "\n",
    "class Sliders(AppConfig):\n",
    "    name = 'sliders'\n",
    "    def ready(self):\n",
    "        from threading import Thread\n",
    "        Thread(target=bk_worker).start()\n",
    "```"
   ]
  },
  {
   "cell_type": "markdown",
   "metadata": {},
   "source": [
    "Here, `localhost:8000` is the address of the Django app. Note also we have made a simple config file, `bk_config.py`, for bokeh server settings:"
   ]
  },
  {
   "cell_type": "markdown",
   "metadata": {},
   "source": [
    "```python\n",
    "server = dict(\n",
    "    address = \"localhost\",\n",
    "    port = 5006\n",
    ")\n",
    "```"
   ]
  },
  {
   "cell_type": "markdown",
   "metadata": {},
   "source": [
    "Finally, in `sliders/views.py` we create a view to display the bokeh sliders app:"
   ]
  },
  {
   "cell_type": "markdown",
   "metadata": {},
   "source": [
    "```python\n",
    "from django.shortcuts import render\n",
    "\n",
    "from bokeh.embed import server_document\n",
    "\n",
    "from . import bk_config\n",
    "\n",
    "def sliders(request):\n",
    "    return render(request, 'base.html', {\n",
    "        \"server_script\": server_document('http://%s:%s/bk_sliders_app'%(bk_config.server['address'],\n",
    "                                                                        bk_config.server['port']))})\n",
    "```"
   ]
  },
  {
   "cell_type": "markdown",
   "metadata": {},
   "source": [
    "The corresponding template is in templates/base.html:"
   ]
  },
  {
   "cell_type": "markdown",
   "metadata": {},
   "source": [
    "```\n",
    "{% block content %}\n",
    "{{server_script|safe}}\t\n",
    "{% endblock %}\n",
    "```"
   ]
  }
 ],
 "metadata": {
  "language_info": {
   "name": "python",
   "pygments_lexer": "ipython3"
  }
 },
 "nbformat": 4,
 "nbformat_minor": 2
}
